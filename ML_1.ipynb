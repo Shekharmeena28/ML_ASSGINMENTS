{
 "cells": [
  {
   "cell_type": "markdown",
   "id": "c04607fa",
   "metadata": {},
   "source": [
    "1. What does one mean by the term &quot;machine learning&quot;?"
   ]
  },
  {
   "cell_type": "markdown",
   "id": "ec645fa0",
   "metadata": {},
   "source": [
    "Machine learning is the branch of Artificial intelligence that focus of on development of algorithms and  models that allow computers to make predictions or decision without being explicitly programmed. it involves mathematics and statistical technique \n",
    "to enable computers to automatically learn from the data , analyse it, find patterns and make predictions and decision."
   ]
  },
  {
   "cell_type": "markdown",
   "id": "8e788ad5",
   "metadata": {},
   "source": [
    "2.Can you think of 4 distinct types of issues where it shines?"
   ]
  },
  {
   "cell_type": "markdown",
   "id": "b59bf79c",
   "metadata": {},
   "source": [
    "- Healthcare sector - Machine learning has helped health sector to reach new heights, it has aided in diagnosis and prognosis. ML models can analyse medical records, patient data, genomic data to find patterns and provide useful insight which has lead to new discoveries. Ml modles have helped in recognising disesases like cancer , diabetes, etc. Ml has helped in drug discoveries also.\n",
    "- Cosmology and Space science - Machine learning has been vital part of our quest for insterstellar studies, it has provided scientist deep insight of the universe. recent example being the first image of the black hole which has made with help of machine learning. Ml models can analyse space data, planetary observations, telescope data to help scientist add in new discoveries.\n",
    "- Autonomous Systems: Machine learning plays a crucial role in the development of autonomous systems that can make decisions and take actions without human intervention. Examples include autonomous vehicles that use machine learning algorithms for perception, object recognition, and decision-making on the road. Autonomous drones, robots, and industrial automation systems also rely on machine learning for navigation, object manipulation, and complex control tasks.\n",
    "- Sentiment Analysis and Social Media Mining: Machine learning is instrumental in analyzing sentiment and extracting insights from social media data. Sentiment analysis techniques can automatically determine the sentiment expressed in social media posts, reviews, or comments, helping businesses understand public opinion, customer feedback, and brand perception. Social media mining using machine learning enables organizations to gather valuable insights, detect trends, and make data-driven decisions in marketing, reputation management, and customer engagement."
   ]
  },
  {
   "cell_type": "markdown",
   "id": "c3b23cef",
   "metadata": {},
   "source": [
    "3.What is a labeled training set, and how does it work?"
   ]
  },
  {
   "cell_type": "markdown",
   "id": "756da8c3",
   "metadata": {},
   "source": [
    "- The training set is used to train the algorithm, and then you use the trained model on the test set to predict the response variable values that are already known. The final step is to compare the predicted responses against the actual responses to see how close they are. suppose we have X dataset and upon this we have to implement the Ml model. so firstly we will train test split the data, in this we will use the train data to train the model after we use this model on the test data to predict varaible that are already know, target variable."
   ]
  },
  {
   "cell_type": "markdown",
   "id": "34067764",
   "metadata": {},
   "source": [
    "4.What are the two most important tasks that are supervised?"
   ]
  },
  {
   "cell_type": "markdown",
   "id": "c7533058",
   "metadata": {},
   "source": [
    "The two most important tasks that are supervised are:-\n",
    "-    Classification\n",
    "-    Regression\n",
    "\n",
    "in classification we have prediction value in binary 1 or 0 while in regression we have scalar value."
   ]
  },
  {
   "cell_type": "markdown",
   "id": "826ac24e",
   "metadata": {},
   "source": [
    "5.Can you think of four examples of unsupervised tasks?"
   ]
  },
  {
   "cell_type": "markdown",
   "id": "fe54b832",
   "metadata": {},
   "source": [
    "- Clustering: Grouping similar data instances together based on patterns or similarities without predefined labels.\n",
    "- Dimensionality Reduction: Reducing the number of variables in a dataset while preserving important information.\n",
    "- Association Rule Mining: Discovering relationships or patterns in data, such as items frequently appearing together.\n",
    "- Anomaly Detection: Identifying rare or unusual instances that deviate significantly from normal behavior."
   ]
  },
  {
   "cell_type": "markdown",
   "id": "65120d2e",
   "metadata": {},
   "source": [
    "6.State the machine learning model that would be best to make a robot walk through various\n",
    "unfamiliar terrains?"
   ]
  },
  {
   "cell_type": "markdown",
   "id": "ea7f7686",
   "metadata": {},
   "source": [
    "\n",
    "- The machine learning model that would be best suited for making a robot walk through various unfamiliar terrains is a Reinforcement Learning (RL) model. Reinforcement Learning is a branch of machine learning that deals with learning optimal actions based on interactions with an environment to maximize a reward signal. Using RL, the robot can explore the unfamiliar terrains, learn from its experiences, and gradually improve its walking ability. The RL model would involve training the robot through a process of trial and error, where it takes actions, receives rewards or penalties, and updates its policy to maximize the expected rewards over time. The robot's policy would gradually converge to an optimal strategy for walking through different terrains"
   ]
  },
  {
   "cell_type": "markdown",
   "id": "39379e81",
   "metadata": {},
   "source": [
    "7.Which algorithm will you use to divide your customers into different groups?"
   ]
  },
  {
   "cell_type": "markdown",
   "id": "23046459",
   "metadata": {},
   "source": [
    "- To divide customers into different groups, the K-means clustering algorithm is commonly used. It partitions the data into K clusters based on similarity, allowing for customer segmentation and group analysis. Other alternatives include hierarchical clustering and DBSCAN."
   ]
  },
  {
   "cell_type": "markdown",
   "id": "b47cc371",
   "metadata": {},
   "source": [
    "8.Will you consider the problem of spam detection to be a supervised or unsupervised learning\n",
    "problem?"
   ]
  },
  {
   "cell_type": "markdown",
   "id": "d5f58a38",
   "metadata": {},
   "source": [
    "- The problem of spam detection is typically considered as a supervised learning problem. In supervised learning, the algorithm is trained on labeled data, where each data point is associated with a predefined class or label (spam or not spam). The algorithm learns patterns and characteristics from the labeled data to classify new, unseen instances as spam or not spam."
   ]
  },
  {
   "cell_type": "markdown",
   "id": "0a6f1b13",
   "metadata": {},
   "source": [
    "9.What is the concept of an online learning system?"
   ]
  },
  {
   "cell_type": "markdown",
   "id": "f7df627d",
   "metadata": {},
   "source": [
    "- The concept of an online learning system, also known as incremental or streaming learning, is a machine learning approach where the model learns from data that arrives sequentially in a continuous stream. Unlike traditional batch learning, where the model is trained on a fixed dataset offline, online learning adapts and updates the model in real-time as new data becomes available."
   ]
  },
  {
   "cell_type": "markdown",
   "id": "de3bc913",
   "metadata": {},
   "source": [
    "10.What is out-of-core learning, and how does it differ from core learning?"
   ]
  },
  {
   "cell_type": "markdown",
   "id": "2b39cfb8",
   "metadata": {},
   "source": [
    "- out of core learning is used when the dataset is too large to fit into memory. Data is processed in smaller chunks, and the model is trained incrementally on each chunk. In contrast, core learning loads the entire dataset into memory for training, providing faster processing but limited to datasets that can fit in memory. Out-of-core learning is suitable for big data scenarios, while core learning is used for smaller datasets."
   ]
  },
  {
   "cell_type": "markdown",
   "id": "f097b6a2",
   "metadata": {},
   "source": [
    "11.What kind of learning algorithm makes predictions using a similarity measure?"
   ]
  },
  {
   "cell_type": "markdown",
   "id": "88b7790e",
   "metadata": {},
   "source": [
    "- instance-based learning algorithms make predictions based on the similarity between new instances and the training instances. They store the training data and measure the similarity using a distance metric. The algorithm selects the k most similar instances and uses their labels or values to make predictions. Examples of instance-based learning algorithms include k-nearest neighbors (KNN) and case-based reasoning (CBR)."
   ]
  },
  {
   "cell_type": "markdown",
   "id": "a64cc54d",
   "metadata": {},
   "source": [
    "12.What&#39;s the difference between a model parameter and a hyperparameter in a learning\n",
    "algorithm?"
   ]
  },
  {
   "cell_type": "markdown",
   "id": "facdacb4",
   "metadata": {},
   "source": [
    "- Model parameters are internal variables learned during training, such as weights and biases in a neural network. Hyperparameters are external settings that control the behavior of the learning algorithm, like learning rate or regularization parameter, and are set before training."
   ]
  },
  {
   "cell_type": "markdown",
   "id": "1537890c",
   "metadata": {},
   "source": [
    "13.What are the criteria that model-based learning algorithms look for? What is the most popular\n",
    "method they use to achieve success? What method do they use to make predictions?"
   ]
  },
  {
   "cell_type": "markdown",
   "id": "04a41e42",
   "metadata": {},
   "source": [
    "- Model-based learning algorithms aim to find a model that best fits the training data and generalizes well to unseen data. The criteria they look for include minimizing the error or discrepancy between the predicted outputs of the model and the actual outputs in the training data. They seek to optimize model performance by reducing this error.\n",
    "The most popular method used by model-based learning algorithms is the optimization of a predefined objective function. This involves selecting a suitable loss or cost function that quantifies the error between predicted and actual values. The learning algorithm then iteratively adjusts the model's parameters to minimize this loss function using techniques like gradient descent or other optimization algorithms."
   ]
  },
  {
   "cell_type": "markdown",
   "id": "71ae1ae3",
   "metadata": {},
   "source": [
    "14.Can you name four of the most important Machine Learning challenges?"
   ]
  },
  {
   "cell_type": "markdown",
   "id": "a6ef52bb",
   "metadata": {},
   "source": [
    "- Overfitting: When a model learns the training data too well and performs poorly on unseen data.\n",
    "\n",
    "- Feature Selection and Dimensionality Reduction: Choosing relevant features and reducing the number of input dimensions.\n",
    "\n",
    "- Data Quality and Preprocessing: Dealing with issues such as missing data, outliers, and data inconsistency.\n",
    "\n",
    "- Interpretability and Explainability: Understanding and interpreting the predictions of complex models."
   ]
  },
  {
   "cell_type": "markdown",
   "id": "36990cf2",
   "metadata": {},
   "source": [
    "15.What happens if the model performs well on the training data but fails to generalize the results\n",
    "to new situations? Can you think of three different options?"
   ]
  },
  {
   "cell_type": "markdown",
   "id": "70ed9aea",
   "metadata": {},
   "source": [
    "\n",
    "To address the issue of a model performing well on the training data but failing to generalize to new situations, three options are:\n",
    "\n",
    "-  Regularization: Apply regularization techniques such as L1 or L2 regularization to penalize complex models and encourage simpler ones. This helps prevent overfitting and promotes better generalization.\n",
    "\n",
    "- Cross-Validation: Evaluate the model's performance on multiple subsets of the data using cross-validation. This provides a more robust estimate of how well the model will generalize to new situations by testing it on unseen data.\n",
    "\n",
    "- Increase Training Data: Add more diverse and representative data to the training set. Increasing the amount of training data helps the model learn better patterns and reduces the likelihood of memorizing specific instances, leading to improved generalization.\n",
    "\n",
    "These options help mitigate overfitting and improve the model's ability to generalize its predictions to new situations.\n",
    "\n",
    "\n",
    "\n",
    "\n",
    "\n",
    "\n"
   ]
  },
  {
   "cell_type": "markdown",
   "id": "f31952b8",
   "metadata": {},
   "source": [
    "16.What exactly is a test set, and why would you need one?"
   ]
  },
  {
   "cell_type": "markdown",
   "id": "7d524408",
   "metadata": {},
   "source": [
    "A test set is a portion of labeled data that is held out from the training process and used to evaluate the performance of a trained machine learning model. The test set is used to simulate real-world scenarios by assessing how well the model generalizes to unseen data."
   ]
  },
  {
   "cell_type": "markdown",
   "id": "1be8f0d8",
   "metadata": {},
   "source": [
    "17.What is a validation set&#39;s purpose?"
   ]
  },
  {
   "cell_type": "markdown",
   "id": "62f95e8b",
   "metadata": {},
   "source": [
    "The purpose of a validation set is to assess and fine-tune the performance of a machine learning model during the training process. It is used to evaluate the model's performance on data that it has not been directly trained on, allowing us to make adjustments to improve its generalization capabilities."
   ]
  },
  {
   "cell_type": "markdown",
   "id": "53f66bd1",
   "metadata": {},
   "source": [
    "18.What precisely is the train-dev kit, when will you need it, how do you put it to use?"
   ]
  },
  {
   "cell_type": "markdown",
   "id": "e90d6842",
   "metadata": {},
   "source": [
    "- The train-dev kit, also known as the training-development set, is an additional dataset used in machine learning to further evaluate and fine-tune the model's performance during the development phase. It is separate from the training set, validation set, and test set. the train-dev set is typically used when the validation set is no longer sufficient for fine-tuning the model and making decisions about model selection or hyperparameter tuning. It helps identify issues like overfitting to the validation set or mismatch between the validation set and the final deployment scenario."
   ]
  },
  {
   "cell_type": "markdown",
   "id": "33942c1e",
   "metadata": {},
   "source": [
    "19.What could go wrong if you use the test set to tune hyperparameters?"
   ]
  },
  {
   "cell_type": "markdown",
   "id": "fb016768",
   "metadata": {},
   "source": [
    "- Overfitting to the test set: The primary purpose of the test set is to evaluate the performance of the model on unseen data. If you repeatedly use the test set to tune hyperparameters, you risk overfitting the model to the test set itself. As a result, the model may perform well on the test set but fail to generalize to new, unseen data.\n",
    "\n",
    "- Biasing the evaluation: Hyperparameter tuning involves selecting the best combination of hyperparameters based on their performance on a given metric (e.g., accuracy, loss). By using the test set to make decisions about hyperparameters, you introduce bias into the evaluation process. The model may appear to perform well on the test set, but in reality, it may not generalize well to other datasets or real-world scenarios.\n",
    "\n",
    "- Loss of an unbiased evaluation metric: If you use the test set for hyperparameter tuning, you lose a reliable unbiased evaluation metric to assess the model's performance. Without an independent test set, you cannot accurately estimate how well the model will perform on new, unseen data.\n",
    "\n",
    "- Leakage of information: Hyperparameter tuning involves making decisions based on the model's performance. If you repeatedly evaluate the model on the test set, you risk leaking information from the test set into the model, which can bias the results and compromise the integrity of your evaluation."
   ]
  },
  {
   "cell_type": "code",
   "execution_count": null,
   "id": "57e6d41f",
   "metadata": {},
   "outputs": [],
   "source": []
  }
 ],
 "metadata": {
  "kernelspec": {
   "display_name": "Python 3 (ipykernel)",
   "language": "python",
   "name": "python3"
  },
  "language_info": {
   "codemirror_mode": {
    "name": "ipython",
    "version": 3
   },
   "file_extension": ".py",
   "mimetype": "text/x-python",
   "name": "python",
   "nbconvert_exporter": "python",
   "pygments_lexer": "ipython3",
   "version": "3.9.13"
  }
 },
 "nbformat": 4,
 "nbformat_minor": 5
}
