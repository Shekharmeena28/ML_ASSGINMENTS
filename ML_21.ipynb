{
 "cells": [
  {
   "cell_type": "markdown",
   "id": "64462521",
   "metadata": {},
   "source": [
    "#### 1. What is the estimated depth of a Decision Tree trained (unrestricted) on a one million instance training set?\n",
    "The estimated depth of a decision tree trained on a one million instance training set would depend on various factors, including the complexity of the data and the characteristics of the decision tree algorithm used. In general, an unrestricted decision tree trained on a large dataset like this could potentially have a deep depth.\n",
    "\n",
    "However, it's important to note that the depth of a decision tree is not solely determined by the size of the training set. Other factors, such as the complexity of the features and the interactions between them, can also influence the depth of the tree. Additionally, the specific algorithm and its hyperparameters can affect the tree's depth.\n",
    "\n",
    "In practice, decision trees are often pruned or have limitations on their depth to prevent overfitting and improve generalization. Therefore, the estimated depth of an unrestricted decision tree on a one million instance training set may vary depending on the data and the specific implementation."
   ]
  },
  {
   "cell_type": "markdown",
   "id": "7c508e28",
   "metadata": {},
   "source": [
    "#### 2. Is the Gini impurity of a node usually lower or higher than that of its parent? Is it always lower/greater, or is it usually lower/greater?\n",
    "\n",
    "The Gini impurity of a node in a decision tree can be either lower or higher than that of its parent, depending on the specific data and split that occurs. It is not guaranteed to always be lower or always be higher.\n",
    "\n",
    "The Gini impurity measures the level of impurity or disorder in a node, with a value of 0 indicating pure (homogeneous) class distribution and a value of 1 indicating maximum impurity (equal distribution of classes). When splitting a node in a decision tree, the goal is typically to reduce the impurity and create child nodes that are more homogeneous.\n",
    "\n",
    "In some cases, a split can result in child nodes that have lower Gini impurity compared to the parent node, indicating improved purity and better separation of classes. This occurs when the split successfully separates the data into more distinct groups based on the target variable.\n",
    "\n",
    "However, there can be situations where a split results in child nodes with higher Gini impurity than the parent node. This can happen when the split is not able to separate the data effectively or when the split introduces noise or outliers that increase the impurity. In such cases, the impurity may temporarily increase at that specific level of the tree.\n",
    "\n",
    "In summary, the Gini impurity of a node in a decision tree can be either lower or higher than that of its parent, depending on the quality of the split and the data characteristics."
   ]
  },
  {
   "cell_type": "markdown",
   "id": "4554e4fc",
   "metadata": {},
   "source": [
    "#### 3. Explain if its a good idea to reduce max depth if a Decision Tree is overfitting the training set?\n",
    "If a decision tree is overfitting the training set, reducing the maximum depth can be a good strategy to address this issue. Overfitting occurs when a decision tree becomes overly complex and captures noise or random variations in the training data, leading to poor generalization on unseen data.\n",
    "\n",
    "By reducing the maximum depth of the decision tree, you are essentially limiting the number of levels or splits in the tree. This restriction helps to prevent the tree from becoming too complex and overly specialized to the training data.\n",
    "\n",
    "Reducing the maximum depth can have the following benefits:\n",
    "\n",
    "1. Generalization: A shallower tree with reduced depth is less likely to memorize noise or outliers in the training data. It focuses on capturing more meaningful patterns and generalizing better to unseen data.\n",
    "\n",
    "2. Interpretability: Shallow trees are easier to interpret and understand. They tend to have fewer branches and rules, making it simpler to explain the decision-making process.\n",
    "\n",
    "3. Reduced overfitting: By limiting the depth, you impose a constraint on the complexity of the tree, which helps to prevent overfitting. This promotes a better balance between bias and variance, leading to improved performance on unseen data.\n",
    "\n",
    "However, it's important to note that reducing the maximum depth should be done in moderation. If the depth is reduced too much, the decision tree may become underfit and fail to capture important patterns in the data. Finding the right balance requires experimentation and validation using appropriate evaluation metrics."
   ]
  },
  {
   "cell_type": "markdown",
   "id": "b9cfeac3",
   "metadata": {},
   "source": [
    "#### 4. Explain if its a good idea to try scaling the input features if a Decision Tree underfits the training set?\n",
    "Scaling the input features is generally not necessary or beneficial for decision trees. Decision trees make splits based on feature thresholds, and the relative scales of the features do not affect the tree's ability to partition the data correctly.\n",
    "\n",
    "In the case of underfitting, where the decision tree is too simplistic and fails to capture the complexities of the data, scaling the input features will not address the issue. Underfitting typically arises when the tree is too shallow or the maximum depth is too limited to capture the patterns in the training set. In such cases, it is more appropriate to increase the complexity of the tree by adjusting hyperparameters like the maximum depth or minimum number of samples required to make a split.\n",
    "\n",
    "Scaling input features is more commonly applied in algorithms that rely on distance calculations or linear relationships, such as k-nearest neighbors or linear regression. These algorithms are sensitive to differences in feature scales, and scaling can help ensure that each feature contributes equally to the model's learning process."
   ]
  },
  {
   "cell_type": "markdown",
   "id": "93fb6b62",
   "metadata": {},
   "source": [
    "***5. How much time will it take to train another Decision Tree on a training set of 10 million instances\n",
    "if it takes an hour to train a Decision Tree on a training set with 1 million instances?***\n",
    "\n",
    "The time taken to train a Decision Tree on a dataset is not directly proportional to the number of instances in the training set. It depends on various factors, including the complexity of the tree, the number of features, and the hardware and software used for training.\n",
    "\n",
    "However, if we assume that the time taken to train a Decision Tree scales linearly with the number of instances, we can estimate the time it would take to train on a larger dataset.\n",
    "\n",
    "Given that it takes one hour to train a Decision Tree on 1 million instances, we can calculate the estimated time to train on 10 million instances as follows:\n",
    "\n",
    "Time to train on 10 million instances = (Time to train on 1 million instances) * (Number of instances in the larger dataset / Number of instances in the smaller dataset)\n",
    "Time to train on 10 million instances = 1 hour * (10 million / 1 million)\n",
    "Time to train on 10 million instances = 1 hour * 10\n",
    "Time to train on 10 million instances = 10 hours\n",
    "\n",
    "So, if we assume linear scaling, it would take approximately 10 hours to train another Decision Tree on a training set with 10 million instances, given that it takes 1 hour to train on 1 million instances. However, it's important to note that training time can vary based on many factors, and this is just a rough estimation. Actual training time may differ depending on the specific dataset and hardware used."
   ]
  },
  {
   "cell_type": "markdown",
   "id": "ae1baa27",
   "metadata": {},
   "source": [
    "#### 6. Will setting presort=True speed up training if your training set has 100,000 instances?\n",
    "\n",
    "No, setting presort=True is unlikely to speed up training if your training set has 100,000 instances.\n",
    "\n",
    "The presort parameter in scikit-learn's DecisionTreeClassifier or DecisionTreeRegressor determines whether to presort the data for faster tree building. When presort=True, the algorithm will sort the data based on the feature values before considering splits, which can be computationally expensive for large datasets.\n",
    "\n",
    "In general, presorting is recommended when the number of instances is smaller or the number of features is relatively large. It can potentially speed up training for datasets with fewer instances and fewer features. However, for larger datasets like the one with 100,000 instances, the overhead of sorting the data may outweigh any potential benefits.\n",
    "\n",
    "Therefore, for a training set with 100,000 instances, it is usually more efficient to leave presort=False (the default) and allow the algorithm to determine the most optimal split points without the additional computational cost of presorting the data."
   ]
  },
  {
   "cell_type": "markdown",
   "id": "853e089f",
   "metadata": {},
   "source": [
    "***7. Follow these steps to train and fine-tune a Decision Tree for the moons dataset:***\n",
    "\n",
    "    a. To build a moons dataset, use make moons(n samples=10000, noise=0.4).\n",
    "\n",
    "    b. Divide the dataset into a training and a test collection with train test split().\n",
    "    \n",
    "    c. To find good hyperparameters values for a DecisionTreeClassifier, use grid search with cross-\n",
    "    validation (with the GridSearchCV class). Try different values for max leaf nodes.\n",
    "    \n",
    "    d. Use these hyperparameters to train the model on the entire training set, and then assess its\n",
    "    output on the test set. You can achieve an accuracy of 85 to 87 percent."
   ]
  },
  {
   "cell_type": "code",
   "execution_count": 1,
   "id": "a01009d0",
   "metadata": {},
   "outputs": [
    {
     "name": "stdout",
     "output_type": "stream",
     "text": [
      "Accuracy on the test set: 0.863\n"
     ]
    }
   ],
   "source": [
    "from sklearn.datasets import make_moons\n",
    "from sklearn.model_selection import train_test_split, GridSearchCV\n",
    "from sklearn.tree import DecisionTreeClassifier\n",
    "from sklearn.metrics import accuracy_score\n",
    "\n",
    "# Step 1: Create the moons dataset\n",
    "X, y = make_moons(n_samples=10000, noise=0.4)\n",
    "\n",
    "# Step 2: Split the dataset into training and test sets\n",
    "X_train, X_test, y_train, y_test = train_test_split(X, y, test_size=0.2, random_state=42)\n",
    "\n",
    "# Step 3: Perform Grid Search with cross-validation to find optimal hyperparameters\n",
    "param_grid = {'max_leaf_nodes': [None, 5, 10, 20, 50]}\n",
    "tree_clf = DecisionTreeClassifier(random_state=42)\n",
    "grid_search = GridSearchCV(tree_clf, param_grid, cv=5)\n",
    "grid_search.fit(X_train, y_train)\n",
    "\n",
    "# Get the best hyperparameters\n",
    "best_params = grid_search.best_params_\n",
    "\n",
    "# Step 4: Train the model on the entire training set with the best hyperparameters\n",
    "tree_clf = DecisionTreeClassifier(random_state=42, **best_params)\n",
    "tree_clf.fit(X_train, y_train)\n",
    "\n",
    "# Step 5: Evaluate the model's performance on the test set\n",
    "y_pred = tree_clf.predict(X_test)\n",
    "accuracy = accuracy_score(y_test, y_pred)\n",
    "print(\"Accuracy on the test set:\", accuracy)\n"
   ]
  },
  {
   "cell_type": "markdown",
   "id": "be43071f",
   "metadata": {},
   "source": [
    "***8. Follow these steps to grow a forest:***\n",
    "\n",
    "    - a. Using the same method as before, create 1,000 subsets of the training set, each containing\n",
    "    100 instances chosen at random. You can do this with Scikit-ShuffleSplit Learn&#39;s class.\n",
    "\n",
    "    - b. Using the best hyperparameter values found in the previous exercise, train one Decision\n",
    "        Tree on each subset. On the test collection, evaluate these 1,000 Decision Trees. These Decision\n",
    "\n",
    "    Trees would likely perform worse than the first Decision Tree, achieving only around 80% accuracy,\n",
    "    since they were trained on smaller sets.\n",
    "\n",
    "    - c. Now the magic begins. Create 1,000 Decision Tree predictions for each test set case, and\n",
    "      keep only the most common prediction (you can do this with SciPy&#39;s mode() function). Over the test\n",
    "        collection, this method gives you majority-vote predictions.\n",
    "\n",
    "    - d. On the test range, evaluate these predictions: you should achieve a slightly higher accuracy\n",
    "        than the first model (approx 0.5 to 1.5 percent higher). You&#39;ve successfully learned a Random Forest\n",
    "        classifier!"
   ]
  },
  {
   "cell_type": "code",
   "execution_count": 9,
   "id": "9c905037",
   "metadata": {},
   "outputs": [
    {
     "name": "stdout",
     "output_type": "stream",
     "text": [
      "Accuracy of the Random Forest on the test set: 0.8645\n"
     ]
    },
    {
     "name": "stderr",
     "output_type": "stream",
     "text": [
      "C:\\Users\\shekh\\AppData\\Local\\Temp\\ipykernel_21636\\3733301068.py:32: FutureWarning: Unlike other reduction functions (e.g. `skew`, `kurtosis`), the default behavior of `mode` typically preserves the axis it acts along. In SciPy 1.11.0, this behavior will change: the default value of `keepdims` will become False, the `axis` over which the statistic is taken will be eliminated, and the value None will no longer be accepted. Set `keepdims` to True or False to avoid this warning.\n",
      "  majority_vote_predictions, _ = mode(predictions, axis=0)\n"
     ]
    }
   ],
   "source": [
    "import numpy as np\n",
    "from sklearn.datasets import make_moons\n",
    "from sklearn.model_selection import train_test_split\n",
    "from sklearn.model_selection import ShuffleSplit\n",
    "from sklearn.tree import DecisionTreeClassifier\n",
    "from scipy.stats import mode\n",
    "\n",
    "# Step 1: Create the moons dataset\n",
    "X, y = make_moons(n_samples=10000, noise=0.4)\n",
    "\n",
    "# Step 2: Divide the dataset into training and test sets\n",
    "X_train, X_test, y_train, y_test = train_test_split(X, y, test_size=0.2, random_state=42)\n",
    "\n",
    "# Step 3: Create subsets of the training set\n",
    "n_subsets = 1000\n",
    "subset_size = 100\n",
    "shuffle_split = ShuffleSplit(n_splits=n_subsets, test_size=subset_size, random_state=42)\n",
    "\n",
    "# Step 4: Train Decision Trees on each subset\n",
    "decision_trees = []\n",
    "for train_index, _ in shuffle_split.split(X_train):\n",
    "    subset_X, subset_y = X_train[train_index], y_train[train_index]\n",
    "    tree_clf = DecisionTreeClassifier(random_state=42, **best_params)\n",
    "    tree_clf.fit(subset_X, subset_y)\n",
    "    decision_trees.append(tree_clf)\n",
    "\n",
    "# Step 5: Make predictions using the 1,000 Decision Trees and select the majority vote\n",
    "predictions = np.zeros((n_subsets, len(X_test)))\n",
    "for i, tree_clf in enumerate(decision_trees):\n",
    "    predictions[i] = tree_clf.predict(X_test)\n",
    "\n",
    "majority_vote_predictions, _ = mode(predictions, axis=0)\n",
    "\n",
    "# Step 6: Evaluate the majority vote predictions on the test set\n",
    "accuracy = np.mean(majority_vote_predictions == y_test)\n",
    "print(\"Accuracy of the Random Forest on the test set:\", accuracy)\n"
   ]
  },
  {
   "cell_type": "code",
   "execution_count": null,
   "id": "c60efe6c",
   "metadata": {},
   "outputs": [],
   "source": []
  }
 ],
 "metadata": {
  "kernelspec": {
   "display_name": "Python 3 (ipykernel)",
   "language": "python",
   "name": "python3"
  },
  "language_info": {
   "codemirror_mode": {
    "name": "ipython",
    "version": 3
   },
   "file_extension": ".py",
   "mimetype": "text/x-python",
   "name": "python",
   "nbconvert_exporter": "python",
   "pygments_lexer": "ipython3",
   "version": "3.9.13"
  }
 },
 "nbformat": 4,
 "nbformat_minor": 5
}
